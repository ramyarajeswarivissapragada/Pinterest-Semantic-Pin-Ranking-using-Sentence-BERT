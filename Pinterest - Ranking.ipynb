{
 "cells": [
  {
   "cell_type": "code",
   "execution_count": 1,
   "id": "4cccf5ba",
   "metadata": {},
   "outputs": [],
   "source": [
    "# Installing / Verifynng dependencies\n",
    "#! pip install tf-keras\n"
   ]
  },
  {
   "cell_type": "code",
   "execution_count": 20,
   "id": "10b78c02",
   "metadata": {},
   "outputs": [],
   "source": [
    "# Importing Libraries\n",
    "import pandas as pd\n",
    "import numpy as np\n",
    "from sentence_transformers import SentenceTransformer\n",
    "from sklearn.metrics.pairwise import cosine_similarity"
   ]
  },
  {
   "cell_type": "code",
   "execution_count": 21,
   "id": "67a4523b",
   "metadata": {},
   "outputs": [
    {
     "data": {
      "text/html": [
       "<div>\n",
       "<style scoped>\n",
       "    .dataframe tbody tr th:only-of-type {\n",
       "        vertical-align: middle;\n",
       "    }\n",
       "\n",
       "    .dataframe tbody tr th {\n",
       "        vertical-align: top;\n",
       "    }\n",
       "\n",
       "    .dataframe thead th {\n",
       "        text-align: right;\n",
       "    }\n",
       "</style>\n",
       "<table border=\"1\" class=\"dataframe\">\n",
       "  <thead>\n",
       "    <tr style=\"text-align: right;\">\n",
       "      <th></th>\n",
       "      <th>id</th>\n",
       "      <th>description</th>\n",
       "      <th>title</th>\n",
       "      <th>repin_count</th>\n",
       "    </tr>\n",
       "  </thead>\n",
       "  <tbody>\n",
       "    <tr>\n",
       "      <th>0</th>\n",
       "      <td>21181060741374444</td>\n",
       "      <td></td>\n",
       "      <td>NaN</td>\n",
       "      <td>0</td>\n",
       "    </tr>\n",
       "    <tr>\n",
       "      <th>1</th>\n",
       "      <td>21181060741360357</td>\n",
       "      <td></td>\n",
       "      <td>NaN</td>\n",
       "      <td>0</td>\n",
       "    </tr>\n",
       "    <tr>\n",
       "      <th>2</th>\n",
       "      <td>21181060741360356</td>\n",
       "      <td>The Toppu Mini Bowl is part of the popular Top...</td>\n",
       "      <td>Toppu Mini Bowl in Caramel / Rose</td>\n",
       "      <td>0</td>\n",
       "    </tr>\n",
       "    <tr>\n",
       "      <th>3</th>\n",
       "      <td>21181060741360355</td>\n",
       "      <td></td>\n",
       "      <td>𐀔</td>\n",
       "      <td>0</td>\n",
       "    </tr>\n",
       "    <tr>\n",
       "      <th>4</th>\n",
       "      <td>21181060741360353</td>\n",
       "      <td></td>\n",
       "      <td>NaN</td>\n",
       "      <td>0</td>\n",
       "    </tr>\n",
       "  </tbody>\n",
       "</table>\n",
       "</div>"
      ],
      "text/plain": [
       "                  id                                        description  \\\n",
       "0  21181060741374444                                                      \n",
       "1  21181060741360357                                                      \n",
       "2  21181060741360356  The Toppu Mini Bowl is part of the popular Top...   \n",
       "3  21181060741360355                                                      \n",
       "4  21181060741360353                                                      \n",
       "\n",
       "                               title  repin_count  \n",
       "0                                NaN            0  \n",
       "1                                NaN            0  \n",
       "2  Toppu Mini Bowl in Caramel / Rose            0  \n",
       "3                                  𐀔            0  \n",
       "4                                NaN            0  "
      ]
     },
     "execution_count": 21,
     "metadata": {},
     "output_type": "execute_result"
    }
   ],
   "source": [
    "# Loading the dataset\n",
    "df = pd.read_csv('/Users/ramyavissapragada/Downloads/pinterest_finalised.csv')  # adjust path if needed\n",
    "df.head()"
   ]
  },
  {
   "cell_type": "code",
   "execution_count": 22,
   "id": "8b3a07a5",
   "metadata": {},
   "outputs": [
    {
     "name": "stdout",
     "output_type": "stream",
     "text": [
      "<class 'pandas.core.frame.DataFrame'>\n",
      "RangeIndex: 5000 entries, 0 to 4999\n",
      "Data columns (total 4 columns):\n",
      " #   Column       Non-Null Count  Dtype \n",
      "---  ------       --------------  ----- \n",
      " 0   id           5000 non-null   int64 \n",
      " 1   description  4997 non-null   object\n",
      " 2   title        1506 non-null   object\n",
      " 3   repin_count  5000 non-null   int64 \n",
      "dtypes: int64(2), object(2)\n",
      "memory usage: 156.4+ KB\n",
      "None\n"
     ]
    }
   ],
   "source": [
    "# Look at the structure\n",
    "print(df.info())\n"
   ]
  },
  {
   "cell_type": "code",
   "execution_count": 23,
   "id": "cd9eaa12",
   "metadata": {},
   "outputs": [
    {
     "name": "stdout",
     "output_type": "stream",
     "text": [
      "Final number of pins: 2428\n"
     ]
    }
   ],
   "source": [
    "# 1. Drop missing descriptions\n",
    "df.dropna(subset=['description'], inplace=True)\n",
    "\n",
    "# 2. Fill missing titles with empty string\n",
    "df['title'] = df['title'].fillna('')\n",
    "\n",
    "# 3. Combine title + description into 'text'\n",
    "df['text'] = df['title'].str.strip() + '. ' + df['description'].str.strip()\n",
    "df['text'] = df['text'].str.strip().replace(r'^\\.', '', regex=True)\n",
    "\n",
    "# 4. Remove emoji-only / foreign-language / non-English rows\n",
    "df = df[df['text'].str.contains(r'[a-zA-Z]{3,}', regex=True)]\n",
    "\n",
    "# 5. Drop very short text\n",
    "df = df[df['text'].str.len() > 10]\n",
    "\n",
    "# 6. Clean repin_count column\n",
    "df['repin_count'] = pd.to_numeric(df['repin_count'], errors='coerce')\n",
    "df.dropna(subset=['repin_count'], inplace=True)\n",
    "df['repin_count'] = df['repin_count'].astype(int)\n",
    "\n",
    "# (Optional) Check final dataset size\n",
    "print(f\"Final number of pins: {len(df)}\")\n"
   ]
  },
  {
   "cell_type": "code",
   "execution_count": 24,
   "id": "3c3b4146",
   "metadata": {},
   "outputs": [],
   "source": [
    "from sentence_transformers import SentenceTransformer\n",
    "\n",
    "# Load a small, fast, high-quality model\n",
    "model = SentenceTransformer('all-MiniLM-L6-v2')\n"
   ]
  },
  {
   "cell_type": "code",
   "execution_count": 25,
   "id": "6185977c",
   "metadata": {},
   "outputs": [
    {
     "name": "stdout",
     "output_type": "stream",
     "text": [
      "Encoding pin texts... This may take 1–2 minutes.\n"
     ]
    },
    {
     "data": {
      "application/vnd.jupyter.widget-view+json": {
       "model_id": "3cde1c6ae6454ec195d05a66b278de15",
       "version_major": 2,
       "version_minor": 0
      },
      "text/plain": [
       "Batches:   0%|          | 0/76 [00:00<?, ?it/s]"
      ]
     },
     "metadata": {},
     "output_type": "display_data"
    }
   ],
   "source": [
    "texts = df['text'].tolist()\n",
    "\n",
    "print(\"Encoding pin texts... This may take 1–2 minutes.\")\n",
    "embeddings = model.encode(texts, show_progress_bar=True)\n"
   ]
  },
  {
   "cell_type": "code",
   "execution_count": 26,
   "id": "0844320f",
   "metadata": {},
   "outputs": [],
   "source": [
    "import numpy as np\n",
    "\n",
    "df['embedding'] = list(embeddings)\n"
   ]
  },
  {
   "cell_type": "code",
   "execution_count": 27,
   "id": "9e03d1fe",
   "metadata": {},
   "outputs": [
    {
     "data": {
      "text/html": [
       "<div>\n",
       "<style scoped>\n",
       "    .dataframe tbody tr th:only-of-type {\n",
       "        vertical-align: middle;\n",
       "    }\n",
       "\n",
       "    .dataframe tbody tr th {\n",
       "        vertical-align: top;\n",
       "    }\n",
       "\n",
       "    .dataframe thead th {\n",
       "        text-align: right;\n",
       "    }\n",
       "</style>\n",
       "<table border=\"1\" class=\"dataframe\">\n",
       "  <thead>\n",
       "    <tr style=\"text-align: right;\">\n",
       "      <th></th>\n",
       "      <th>id</th>\n",
       "      <th>description</th>\n",
       "      <th>title</th>\n",
       "      <th>repin_count</th>\n",
       "      <th>text</th>\n",
       "      <th>embedding</th>\n",
       "    </tr>\n",
       "  </thead>\n",
       "  <tbody>\n",
       "    <tr>\n",
       "      <th>2</th>\n",
       "      <td>21181060741360356</td>\n",
       "      <td>The Toppu Mini Bowl is part of the popular Top...</td>\n",
       "      <td>Toppu Mini Bowl in Caramel / Rose</td>\n",
       "      <td>0</td>\n",
       "      <td>Toppu Mini Bowl in Caramel / Rose. The Toppu M...</td>\n",
       "      <td>[0.029299932, 0.05243382, 0.007619313, -0.0220...</td>\n",
       "    </tr>\n",
       "    <tr>\n",
       "      <th>5</th>\n",
       "      <td>21181060741360352</td>\n",
       "      <td></td>\n",
       "      <td>constellation</td>\n",
       "      <td>1</td>\n",
       "      <td>constellation.</td>\n",
       "      <td>[0.0029528304, 0.02040875, -0.023886636, 0.050...</td>\n",
       "    </tr>\n",
       "    <tr>\n",
       "      <th>7</th>\n",
       "      <td>21181060741360345</td>\n",
       "      <td>Blomb No. 03 50ml Eau de Parfum – Altar PDX</td>\n",
       "      <td></td>\n",
       "      <td>0</td>\n",
       "      <td>Blomb No. 03 50ml Eau de Parfum – Altar PDX</td>\n",
       "      <td>[-0.0066533852, 0.040499054, -0.022409916, -0....</td>\n",
       "    </tr>\n",
       "    <tr>\n",
       "      <th>9</th>\n",
       "      <td>21181060741360343</td>\n",
       "      <td>Pyxis: This shimmer eyeshadow shade is named f...</td>\n",
       "      <td>Celestial Sphere Gelée Eye Gloss: Pyxis</td>\n",
       "      <td>0</td>\n",
       "      <td>Celestial Sphere Gelée Eye Gloss: Pyxis. Pyxis...</td>\n",
       "      <td>[-0.041557647, 0.014049628, 0.01359767, -0.019...</td>\n",
       "    </tr>\n",
       "    <tr>\n",
       "      <th>10</th>\n",
       "      <td>21181060741360342</td>\n",
       "      <td></td>\n",
       "      <td>Marshmalow flowers @inspirationbyblanca</td>\n",
       "      <td>1</td>\n",
       "      <td>Marshmalow flowers @inspirationbyblanca.</td>\n",
       "      <td>[0.006069741, -0.013287566, 0.06150761, -0.004...</td>\n",
       "    </tr>\n",
       "  </tbody>\n",
       "</table>\n",
       "</div>"
      ],
      "text/plain": [
       "                   id                                        description  \\\n",
       "2   21181060741360356  The Toppu Mini Bowl is part of the popular Top...   \n",
       "5   21181060741360352                                                      \n",
       "7   21181060741360345        Blomb No. 03 50ml Eau de Parfum – Altar PDX   \n",
       "9   21181060741360343  Pyxis: This shimmer eyeshadow shade is named f...   \n",
       "10  21181060741360342                                                      \n",
       "\n",
       "                                      title  repin_count  \\\n",
       "2         Toppu Mini Bowl in Caramel / Rose            0   \n",
       "5                             constellation            1   \n",
       "7                                                      0   \n",
       "9   Celestial Sphere Gelée Eye Gloss: Pyxis            0   \n",
       "10  Marshmalow flowers @inspirationbyblanca            1   \n",
       "\n",
       "                                                 text  \\\n",
       "2   Toppu Mini Bowl in Caramel / Rose. The Toppu M...   \n",
       "5                                      constellation.   \n",
       "7         Blomb No. 03 50ml Eau de Parfum – Altar PDX   \n",
       "9   Celestial Sphere Gelée Eye Gloss: Pyxis. Pyxis...   \n",
       "10           Marshmalow flowers @inspirationbyblanca.   \n",
       "\n",
       "                                            embedding  \n",
       "2   [0.029299932, 0.05243382, 0.007619313, -0.0220...  \n",
       "5   [0.0029528304, 0.02040875, -0.023886636, 0.050...  \n",
       "7   [-0.0066533852, 0.040499054, -0.022409916, -0....  \n",
       "9   [-0.041557647, 0.014049628, 0.01359767, -0.019...  \n",
       "10  [0.006069741, -0.013287566, 0.06150761, -0.004...  "
      ]
     },
     "execution_count": 27,
     "metadata": {},
     "output_type": "execute_result"
    }
   ],
   "source": [
    "df.head()"
   ]
  },
  {
   "cell_type": "code",
   "execution_count": 28,
   "id": "5ed96e24",
   "metadata": {},
   "outputs": [],
   "source": [
    "def search_pins(query, top_k=5, min_similarity=0.35):\n",
    "    # Encode query\n",
    "    query_embedding = model.encode([query])\n",
    "    \n",
    "    # Compute similarity\n",
    "    similarities = cosine_similarity(query_embedding, embeddings)[0]\n",
    "    \n",
    "    # Sort indices by descending similarity\n",
    "    sorted_indices = similarities.argsort()[::-1]\n",
    "    \n",
    "    # Filter by threshold\n",
    "    filtered_indices = [i for i in sorted_indices if similarities[i] >= min_similarity]\n",
    "    \n",
    "    # Take top_k\n",
    "    top_indices = filtered_indices[:top_k]\n",
    "    \n",
    "    # Retrieve results\n",
    "    results = df.iloc[top_indices][['text', 'description', 'repin_count']].copy()\n",
    "    results['similarity'] = similarities[top_indices].round(3)\n",
    "    \n",
    "    return results.reset_index(drop=True)\n"
   ]
  },
  {
   "cell_type": "code",
   "execution_count": 29,
   "id": "2e0cae74",
   "metadata": {},
   "outputs": [],
   "source": [
    "results = search_pins(\"kitchen storage hacks\", top_k=5, min_similarity=0.40)\n"
   ]
  },
  {
   "cell_type": "code",
   "execution_count": 33,
   "id": "c79913af",
   "metadata": {},
   "outputs": [
    {
     "name": "stdout",
     "output_type": "stream",
     "text": [
      "                                                text  \\\n",
      "0  Shea Checkered Storage Bench. from @urbanoutfi...   \n",
      "1                   The Curious Shelf – Shop Curious   \n",
      "2   Ikea hack kitchen design by Norm Architects f...   \n",
      "\n",
      "                                         description  repin_count  similarity  \n",
      "0                              from @urbanoutfitters            3       0.448  \n",
      "1                   The Curious Shelf – Shop Curious            2       0.424  \n",
      "2  Ikea hack kitchen design by Norm Architects fo...            1       0.408  \n"
     ]
    }
   ],
   "source": [
    "if results.empty:\n",
    "    print(\"No relevant pins found for this query.\")\n",
    "else:\n",
    "    print(results)\n"
   ]
  },
  {
   "cell_type": "code",
   "execution_count": 34,
   "id": "cadbd9ce",
   "metadata": {},
   "outputs": [
    {
     "data": {
      "text/html": [
       "<div>\n",
       "<style scoped>\n",
       "    .dataframe tbody tr th:only-of-type {\n",
       "        vertical-align: middle;\n",
       "    }\n",
       "\n",
       "    .dataframe tbody tr th {\n",
       "        vertical-align: top;\n",
       "    }\n",
       "\n",
       "    .dataframe thead th {\n",
       "        text-align: right;\n",
       "    }\n",
       "</style>\n",
       "<table border=\"1\" class=\"dataframe\">\n",
       "  <thead>\n",
       "    <tr style=\"text-align: right;\">\n",
       "      <th></th>\n",
       "      <th>text</th>\n",
       "      <th>similarity</th>\n",
       "      <th>repin_count</th>\n",
       "    </tr>\n",
       "  </thead>\n",
       "  <tbody>\n",
       "    <tr>\n",
       "      <th>0</th>\n",
       "      <td>Shea Checkered Storage Bench. from @urbanoutfi...</td>\n",
       "      <td>0.448</td>\n",
       "      <td>3</td>\n",
       "    </tr>\n",
       "    <tr>\n",
       "      <th>1</th>\n",
       "      <td>The Curious Shelf – Shop Curious</td>\n",
       "      <td>0.424</td>\n",
       "      <td>2</td>\n",
       "    </tr>\n",
       "    <tr>\n",
       "      <th>2</th>\n",
       "      <td>Ikea hack kitchen design by Norm Architects f...</td>\n",
       "      <td>0.408</td>\n",
       "      <td>1</td>\n",
       "    </tr>\n",
       "  </tbody>\n",
       "</table>\n",
       "</div>"
      ],
      "text/plain": [
       "                                                text  similarity  repin_count\n",
       "0  Shea Checkered Storage Bench. from @urbanoutfi...       0.448            3\n",
       "1                   The Curious Shelf – Shop Curious       0.424            2\n",
       "2   Ikea hack kitchen design by Norm Architects f...       0.408            1"
      ]
     },
     "execution_count": 34,
     "metadata": {},
     "output_type": "execute_result"
    }
   ],
   "source": [
    "results['repin_count'].describe()\n",
    "results[['text', 'similarity', 'repin_count']]\n"
   ]
  },
  {
   "cell_type": "code",
   "execution_count": 36,
   "id": "8057805a",
   "metadata": {},
   "outputs": [],
   "source": [
    "#np.save('/Users/ramyavissapragada/Desktop/Pinterest/embeddings.npy', embeddings)\n",
    "# df.to_csv('/Users/ramyavissapragada/Desktop/Pinterest/cleaned_pins.csv', index=False)\n",
    "\n"
   ]
  },
  {
   "cell_type": "code",
   "execution_count": null,
   "id": "231c173c",
   "metadata": {},
   "outputs": [],
   "source": []
  }
 ],
 "metadata": {
  "kernelspec": {
   "display_name": "Python 3 (ipykernel)",
   "language": "python",
   "name": "python3"
  },
  "language_info": {
   "codemirror_mode": {
    "name": "ipython",
    "version": 3
   },
   "file_extension": ".py",
   "mimetype": "text/x-python",
   "name": "python",
   "nbconvert_exporter": "python",
   "pygments_lexer": "ipython3",
   "version": "3.11.4"
  }
 },
 "nbformat": 4,
 "nbformat_minor": 5
}
